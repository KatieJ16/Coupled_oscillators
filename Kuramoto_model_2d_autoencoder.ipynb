{
 "cells": [
  {
   "cell_type": "code",
   "execution_count": 19,
   "metadata": {},
   "outputs": [],
   "source": [
    "import numpy as np\n",
    "import matplotlib.pyplot as plt\n",
    "from matplotlib import animation\n",
    "import scipy\n",
    "from scipy.integrate import odeint\n",
    "\n",
    "import math\n",
    "\n",
    "import torch\n",
    "import torch.nn as nn\n",
    "import torch.nn.functional as F\n",
    "import torch.optim as optim\n"
   ]
  },
  {
   "cell_type": "code",
   "execution_count": null,
   "metadata": {},
   "outputs": [],
   "source": []
  },
  {
   "cell_type": "markdown",
   "metadata": {},
   "source": [
    "# Kuramoto model\n",
    "$$ \\dot \\varphi_i = \\omega_i + \\frac K N \\sum_{j=1}^N{a_{ij}}\\sin(\\varphi_j - \\varphi_i)$$"
   ]
  },
  {
   "cell_type": "code",
   "execution_count": 2,
   "metadata": {},
   "outputs": [],
   "source": [
    "#define all needed variables\n",
    "N = 10\n",
    "# phi = np.zeros(N)\n",
    "omega = np.random.uniform(low=-1, high=1, size=(N**2))\n",
    "# omega = omega**3 - 0.3*omega\n",
    "K = 80\n",
    "\n",
    "def make_A(N=10):\n",
    "    #make an adjaceny matrix for an NxN systems where neighbors are connected. \n",
    "    #periodic boundary conditions\n",
    "    \n",
    "    #this is super messy, maybe make clearer. \n",
    "    \n",
    "    \n",
    "    A = np.zeros((N**2,N**2))\n",
    "    #handle corners\n",
    "    #top left\n",
    "    A[0,1] = 1\n",
    "    A[0,N-1] = 1\n",
    "    A[0,N] = 1\n",
    "    A[0, N**2 - N] = 1\n",
    "    #bottom left\n",
    "    A[N-1,0] = 1\n",
    "    A[N-1,N-2] = 1\n",
    "    A[N-1,N**2 - 1] = 1\n",
    "    A[N-1, 2*N-1] = 1\n",
    "#     top right\n",
    "    A[ N**2 - N,  N**2 - N+1] = 1\n",
    "    A[ N**2 - N, N**2 - 1] = 1\n",
    "    A[ N**2 - N, 0] = 1\n",
    "    A[ N**2 - N,  N**2 - 2*N] = 1\n",
    "    #bottom right\n",
    "    A[ N**2 - 1,  N**2 - N] = 1\n",
    "    A[ N**2 - 1, N**2 - 2] = 1\n",
    "    A[ N**2 - 1, N**2 - N-1] = 1\n",
    "    A[ N**2 - 1,  N-1] = 1\n",
    "    \n",
    "    #first column\n",
    "    for i in range(1, N-1):\n",
    "        A[i, i + N] = 1\n",
    "        A[i, N**2 - N + i] = 1\n",
    "        A[i, i + 1] = 1\n",
    "        A[i, i - 1] = 1\n",
    "    #first column\n",
    "    for i in range(1, N-1):\n",
    "        A[N**2 - N + i, N**2 - N + i+1] = 1\n",
    "        A[N**2 - N + i, N**2 - N + i-1] = 1\n",
    "        A[N**2 - N + i, N**2 - 2*N + i] = 1\n",
    "        A[N**2 - N + i, i] =1\n",
    "    #first row\n",
    "    for i in range(1, N-1):\n",
    "        A[i*N, (i-1)*N] = 1\n",
    "        A[i*N, (i+1)*N] = 1\n",
    "        A[i*N, i*N + 1] = 1\n",
    "        A[i*N, (i+1)*N - 1] = 1\n",
    "    #last row\n",
    "    for i in range(2, N):\n",
    "        A[i*N-1, i*N-2] = 1\n",
    "        A[i*N-1, i*N-N] = 1\n",
    "        A[i*N-1, (i-1)*N-1] = 1\n",
    "        A[i*N-1, (i+1)*N-1] = 1\n",
    "    #middles\n",
    "    for i in range(N+1, N**2-N-1):\n",
    "        if(i%N != N-1) and (i%N != 0):\n",
    "            A[i, i+1] = 1\n",
    "            A[i, i-1] = 1\n",
    "            A[i, i-N] = 1\n",
    "            A[i, i+N] = 1\n",
    "    return A\n",
    "\n",
    "# A = np.ones((N,N)) - np.eye(N) #this is all to all right now, but want to make it so you can set the number of connections\n",
    "A = make_A(N)\n",
    "# print(np.sum(A)/((N**2-1)**2))\n",
    "# plt.figure()\n",
    "# plt.imshow(A)\n",
    "dt = 0.01 #timestep size, if this is too large, weird things seem to be happening\n",
    "T_max = 40. #maximum time to run simulation for\n",
    "t = np.arange(0, T_max, dt)\n",
    "# print(t.shape)"
   ]
  },
  {
   "cell_type": "code",
   "execution_count": null,
   "metadata": {},
   "outputs": [],
   "source": []
  },
  {
   "cell_type": "code",
   "execution_count": 3,
   "metadata": {},
   "outputs": [],
   "source": [
    "def phi_dot(phi, t, omega, K, A):\n",
    "    #this is for the Kuramoto oscillator\n",
    "    N = len(phi)\n",
    "    dphi_dt = np.zeros(np.shape(phi))\n",
    "    for i in range(N):\n",
    "        dphi_dt[i] = (omega[i] + K/N *np.sum(A[i]@np.sin(phi - phi[i])))\n",
    "    return dphi_dt"
   ]
  },
  {
   "cell_type": "code",
   "execution_count": 4,
   "metadata": {},
   "outputs": [],
   "source": [
    "#do the integration part\n",
    "start = np.random.uniform(0,1,size = (N**2))\n",
    "sol1 = odeint(phi_dot, start, t, args=(omega, K, A))\n",
    "sol2 = odeint(phi_dot, start, t, args=(omega, K*2, A))\n",
    "sol4 = odeint(phi_dot, start, t, args=(omega, K*4, A))\n",
    "sol8 = odeint(phi_dot, start, t, args=(omega, K*8, A))\n",
    "sol16 = odeint(phi_dot, start, t, args=(omega, K*16, A))"
   ]
  },
  {
   "cell_type": "code",
   "execution_count": null,
   "metadata": {},
   "outputs": [],
   "source": []
  },
  {
   "cell_type": "code",
   "execution_count": 5,
   "metadata": {},
   "outputs": [
    {
     "name": "stdout",
     "output_type": "stream",
     "text": [
      "-0.7825561875490428\n",
      "0.005634895200844387\n"
     ]
    },
    {
     "data": {
      "image/png": "[encoded data removed]",
      "text/plain": [
       "<Figure size 432x288 with 1 Axes>"
      ]
     },
     "metadata": {
      "needs_background": "light"
     },
     "output_type": "display_data"
    }
   ],
   "source": [
    "%matplotlib inline\n",
    "i = 25\n",
    "plt.plot(t, sol1[:,i], label = K)\n",
    "plt.plot(t, sol2[:,i], label = 2*K)\n",
    "plt.plot(t, sol4[:,i], label = 4*K)\n",
    "plt.plot(t, sol8[:,i], label = 8*K)\n",
    "print(omega[i])\n",
    "print(np.mean(omega))\n",
    "plt.legend()\n",
    "\n",
    "# plt.plot(t, omega[i]*t + sol1[0,i], 'black')\n",
    "# plt.plot(t, np.mean(omega)*t + sol1[0,i], 'black')\n",
    "plt.show()"
   ]
  },
  {
   "cell_type": "code",
   "execution_count": 6,
   "metadata": {},
   "outputs": [
    {
     "name": "stdout",
     "output_type": "stream",
     "text": [
      "-0.7825561875490428\n",
      "0.005634895200844387\n"
     ]
    },
    {
     "data": {
      "image/png": "[encoded data removed]",
      "text/plain": [
       "<Figure size 432x288 with 1 Axes>"
      ]
     },
     "metadata": {
      "needs_background": "light"
     },
     "output_type": "display_data"
    }
   ],
   "source": [
    "%matplotlib inline\n",
    "i = 25\n",
    "plt.plot(t, np.sin(sol1[:,i]))\n",
    "plt.plot(t, np.sin(sol2[:,i]))\n",
    "plt.plot(t, np.sin(sol4[:,i]))\n",
    "plt.plot(t, np.sin(sol8[:,i]))\n",
    "print(omega[i])\n",
    "print(np.mean(omega))\n",
    "\n",
    "# plt.plot(t, omega[i]*t + sol1[0,i], 'black')\n",
    "# plt.plot(t, np.mean(omega)*t + sol1[0,i], 'black')\n",
    "plt.show()"
   ]
  },
  {
   "cell_type": "code",
   "execution_count": 48,
   "metadata": {},
   "outputs": [
    {
     "name": "stdout",
     "output_type": "stream",
     "text": [
      "0\n",
      "tensor(0.5959, grad_fn=<MseLossBackward>)\n",
      "100\n",
      "tensor(0.2729, grad_fn=<MseLossBackward>)\n",
      "200\n",
      "tensor(0.0092, grad_fn=<MseLossBackward>)\n",
      "300\n",
      "tensor(0.0061, grad_fn=<MseLossBackward>)\n",
      "400\n",
      "tensor(0.0059, grad_fn=<MseLossBackward>)\n",
      "500\n",
      "tensor(0.0057, grad_fn=<MseLossBackward>)\n",
      "600\n",
      "tensor(0.0056, grad_fn=<MseLossBackward>)\n",
      "700\n",
      "tensor(0.0055, grad_fn=<MseLossBackward>)\n",
      "800\n",
      "tensor(0.0053, grad_fn=<MseLossBackward>)\n",
      "900\n",
      "tensor(0.0053, grad_fn=<MseLossBackward>)\n",
      "1000\n",
      "tensor(0.0052, grad_fn=<MseLossBackward>)\n",
      "1100\n",
      "tensor(0.0051, grad_fn=<MseLossBackward>)\n",
      "1200\n",
      "tensor(0.0050, grad_fn=<MseLossBackward>)\n",
      "1300\n",
      "tensor(0.0050, grad_fn=<MseLossBackward>)\n",
      "1400\n",
      "tensor(0.0049, grad_fn=<MseLossBackward>)\n",
      "1500\n",
      "tensor(0.0048, grad_fn=<MseLossBackward>)\n",
      "1600\n",
      "tensor(0.0048, grad_fn=<MseLossBackward>)\n",
      "1700\n",
      "tensor(0.0047, grad_fn=<MseLossBackward>)\n",
      "1800\n",
      "tensor(0.0047, grad_fn=<MseLossBackward>)\n",
      "1900\n",
      "tensor(0.0046, grad_fn=<MseLossBackward>)\n",
      "2000\n",
      "tensor(0.0046, grad_fn=<MseLossBackward>)\n",
      "2100\n",
      "tensor(0.0046, grad_fn=<MseLossBackward>)\n",
      "2200\n",
      "tensor(0.0045, grad_fn=<MseLossBackward>)\n",
      "2300\n",
      "tensor(0.0045, grad_fn=<MseLossBackward>)\n",
      "2400\n",
      "tensor(0.0044, grad_fn=<MseLossBackward>)\n",
      "2500\n",
      "tensor(0.0044, grad_fn=<MseLossBackward>)\n",
      "2600\n",
      "tensor(0.0044, grad_fn=<MseLossBackward>)\n",
      "2700\n",
      "tensor(0.0043, grad_fn=<MseLossBackward>)\n",
      "2800\n",
      "tensor(0.0043, grad_fn=<MseLossBackward>)\n",
      "2900\n",
      "tensor(0.0043, grad_fn=<MseLossBackward>)\n",
      "3000\n",
      "tensor(0.0042, grad_fn=<MseLossBackward>)\n",
      "3100\n",
      "tensor(0.0042, grad_fn=<MseLossBackward>)\n",
      "3200\n",
      "tensor(0.0042, grad_fn=<MseLossBackward>)\n",
      "3300\n",
      "tensor(0.0042, grad_fn=<MseLossBackward>)\n",
      "3400\n",
      "tensor(0.0041, grad_fn=<MseLossBackward>)\n",
      "3500\n",
      "tensor(0.0041, grad_fn=<MseLossBackward>)\n",
      "3600\n",
      "tensor(0.0041, grad_fn=<MseLossBackward>)\n",
      "3700\n",
      "tensor(0.0041, grad_fn=<MseLossBackward>)\n",
      "3800\n",
      "tensor(0.0040, grad_fn=<MseLossBackward>)\n",
      "3900\n",
      "tensor(0.0040, grad_fn=<MseLossBackward>)\n",
      "4000\n",
      "tensor(0.0040, grad_fn=<MseLossBackward>)\n",
      "4100\n",
      "tensor(0.0040, grad_fn=<MseLossBackward>)\n",
      "4200\n",
      "tensor(0.0040, grad_fn=<MseLossBackward>)\n",
      "4300\n",
      "tensor(0.0039, grad_fn=<MseLossBackward>)\n",
      "4400\n",
      "tensor(0.0039, grad_fn=<MseLossBackward>)\n",
      "4500\n",
      "tensor(0.0039, grad_fn=<MseLossBackward>)\n",
      "4600\n",
      "tensor(0.0039, grad_fn=<MseLossBackward>)\n",
      "4700\n",
      "tensor(0.0038, grad_fn=<MseLossBackward>)\n",
      "4800\n",
      "tensor(0.0038, grad_fn=<MseLossBackward>)\n",
      "4900\n",
      "tensor(0.0038, grad_fn=<MseLossBackward>)\n",
      "5000\n",
      "tensor(0.0038, grad_fn=<MseLossBackward>)\n",
      "5100\n",
      "tensor(0.0038, grad_fn=<MseLossBackward>)\n",
      "5200\n",
      "tensor(0.0037, grad_fn=<MseLossBackward>)\n",
      "5300\n",
      "tensor(0.0037, grad_fn=<MseLossBackward>)\n",
      "5400\n",
      "tensor(0.0037, grad_fn=<MseLossBackward>)\n",
      "5500\n",
      "tensor(0.0037, grad_fn=<MseLossBackward>)\n",
      "5600\n",
      "tensor(0.0037, grad_fn=<MseLossBackward>)\n",
      "5700\n",
      "tensor(0.0037, grad_fn=<MseLossBackward>)\n",
      "5800\n",
      "tensor(0.0036, grad_fn=<MseLossBackward>)\n",
      "5900\n",
      "tensor(0.0036, grad_fn=<MseLossBackward>)\n",
      "6000\n",
      "tensor(0.0036, grad_fn=<MseLossBackward>)\n",
      "6100\n",
      "tensor(0.0036, grad_fn=<MseLossBackward>)\n",
      "6200\n",
      "tensor(0.0036, grad_fn=<MseLossBackward>)\n",
      "6300\n",
      "tensor(0.0036, grad_fn=<MseLossBackward>)\n",
      "6400\n",
      "tensor(0.0035, grad_fn=<MseLossBackward>)\n",
      "6500\n",
      "tensor(0.0035, grad_fn=<MseLossBackward>)\n",
      "6600\n",
      "tensor(0.0035, grad_fn=<MseLossBackward>)\n",
      "6700\n",
      "tensor(0.0035, grad_fn=<MseLossBackward>)\n",
      "6800\n",
      "tensor(0.0035, grad_fn=<MseLossBackward>)\n",
      "6900\n",
      "tensor(0.0035, grad_fn=<MseLossBackward>)\n",
      "7000\n",
      "tensor(0.0034, grad_fn=<MseLossBackward>)\n",
      "7100\n",
      "tensor(0.0034, grad_fn=<MseLossBackward>)\n",
      "7200\n",
      "tensor(0.0034, grad_fn=<MseLossBackward>)\n",
      "7300\n",
      "tensor(0.0034, grad_fn=<MseLossBackward>)\n",
      "7400\n",
      "tensor(0.0034, grad_fn=<MseLossBackward>)\n",
      "7500\n",
      "tensor(0.0034, grad_fn=<MseLossBackward>)\n",
      "7600\n",
      "tensor(0.0033, grad_fn=<MseLossBackward>)\n",
      "7700\n",
      "tensor(0.0033, grad_fn=<MseLossBackward>)\n",
      "7800\n",
      "tensor(0.0033, grad_fn=<MseLossBackward>)\n",
      "7900\n",
      "tensor(0.0033, grad_fn=<MseLossBackward>)\n",
      "8000\n",
      "tensor(0.0033, grad_fn=<MseLossBackward>)\n",
      "8100\n",
      "tensor(0.0033, grad_fn=<MseLossBackward>)\n",
      "8200\n",
      "tensor(0.0032, grad_fn=<MseLossBackward>)\n",
      "8300\n",
      "tensor(0.0032, grad_fn=<MseLossBackward>)\n",
      "8400\n",
      "tensor(0.0032, grad_fn=<MseLossBackward>)\n",
      "8500\n",
      "tensor(0.0032, grad_fn=<MseLossBackward>)\n",
      "8600\n",
      "tensor(0.0032, grad_fn=<MseLossBackward>)\n",
      "8700\n",
      "tensor(0.0032, grad_fn=<MseLossBackward>)\n",
      "8800\n",
      "tensor(0.0032, grad_fn=<MseLossBackward>)\n",
      "8900\n",
      "tensor(0.0031, grad_fn=<MseLossBackward>)\n",
      "9000\n",
      "tensor(0.0031, grad_fn=<MseLossBackward>)\n",
      "9100\n",
      "tensor(0.0031, grad_fn=<MseLossBackward>)\n",
      "9200\n",
      "tensor(0.0031, grad_fn=<MseLossBackward>)\n",
      "9300\n",
      "tensor(0.0031, grad_fn=<MseLossBackward>)\n",
      "9400\n",
      "tensor(0.0031, grad_fn=<MseLossBackward>)\n",
      "9500\n",
      "tensor(0.0030, grad_fn=<MseLossBackward>)\n",
      "9600\n",
      "tensor(0.0030, grad_fn=<MseLossBackward>)\n",
      "9700\n",
      "tensor(0.0030, grad_fn=<MseLossBackward>)\n",
      "9800\n",
      "tensor(0.0030, grad_fn=<MseLossBackward>)\n",
      "9900\n",
      "tensor(0.0030, grad_fn=<MseLossBackward>)\n",
      "Finished Training\n"
     ]
    }
   ],
   "source": [
    "#making autoencoder\n",
    "\n",
    "\n",
    "class Net(nn.Module):\n",
    "    def __init__(self, N, n_hidden, n_important):\n",
    "        super().__init__()\n",
    "#         self.conv1 = nn.Conv2d(3, 6, 5)\n",
    "#         self.pool = nn.MaxPool2d(2, 2)\n",
    "#         self.conv2 = nn.Conv2d(6, 16, 5)\n",
    "        self.fc1 = nn.Linear(N**2, n_hidden)\n",
    "        self.fc2 = nn.Linear(n_hidden, n_important)\n",
    "        self.fc3 = nn.Linear(n_important, n_hidden)\n",
    "        self.fc4 = nn.Linear(n_hidden, N**2)\n",
    "\n",
    "    def forward(self, x):\n",
    "        x = F.relu(self.fc1(x))\n",
    "        x = F.relu(self.fc2(x))\n",
    "        x = F.relu(self.fc3(x))\n",
    "        x = self.fc4(x)\n",
    "        return x\n",
    "\n",
    "n_hidden = np.int(np.sqrt(N**2))\n",
    "n_important = 3\n",
    "net = Net(N, n_hidden, n_important)\n",
    "\n",
    "criterion = nn.MSELoss()\n",
    "optimizer = optim.SGD(net.parameters(), lr=0.01, momentum=0.9)\\\n",
    "\n",
    "\n",
    "n_iter = 10000\n",
    "min_error = 4e-4\n",
    "inputs = torch.from_numpy(sol1).float()\n",
    "for epoch in range(n_iter):  # loop over the dataset multiple times\n",
    "\n",
    "        # zero the parameter gradients\n",
    "        optimizer.zero_grad()\n",
    "\n",
    "        # forward + backward + optimize\n",
    "        outputs = net(inputs)\n",
    "        loss = criterion(outputs, inputs)\n",
    "        loss.backward()\n",
    "        optimizer.step()\n",
    "\n",
    "        # print statistics\n",
    "        if(loss < min_error):\n",
    "            break\n",
    "        if epoch % int(n_iter/100) == 0:\n",
    "            print(epoch)\n",
    "            print(loss)\n",
    "\n",
    "print('Finished Training')\n"
   ]
  },
  {
   "cell_type": "code",
   "execution_count": 44,
   "metadata": {},
   "outputs": [
    {
     "name": "stdout",
     "output_type": "stream",
     "text": [
      "(4000, 100)\n"
     ]
    }
   ],
   "source": [
    "print(sol1.shape)"
   ]
  },
  {
   "cell_type": "code",
   "execution_count": 53,
   "metadata": {},
   "outputs": [
    {
     "data": {
      "image/png": "[encoded data removed]",
      "text/plain": [
       "<Figure size 432x288 with 1 Axes>"
      ]
     },
     "metadata": {
      "needs_background": "light"
     },
     "output_type": "display_data"
    },
    {
     "name": "stdout",
     "output_type": "stream",
     "text": [
      "MSE of 1 =  0.0005079799801649939\n"
     ]
    },
    {
     "data": {
      "image/png": "[encoded data removed]",
      "text/plain": [
       "<Figure size 432x288 with 1 Axes>"
      ]
     },
     "metadata": {
      "needs_background": "light"
     },
     "output_type": "display_data"
    }
   ],
   "source": [
    "i = 2000\n",
    "predicted = net(inputs[i,:])\n",
    "pred_np = predicted.detach().numpy()\n",
    "plt.imshow(pred_np.reshape(N,N))\n",
    "plt.show()\n",
    "plt.imshow(sol1[i,:].reshape(N,N))\n",
    "print(\"MSE of 1 = \", ((pred_np - sol1[i,:])**2).mean())"
   ]
  },
  {
   "cell_type": "code",
   "execution_count": 62,
   "metadata": {},
   "outputs": [
    {
     "data": {
      "text/plain": [
       "[<matplotlib.lines.Line2D at 0x1beb3305dc0>]"
      ]
     },
     "execution_count": 62,
     "metadata": {},
     "output_type": "execute_result"
    },
    {
     "data": {
      "image/png": "[encoded data removed]",
      "text/plain": [
       "<Figure size 432x288 with 1 Axes>"
      ]
     },
     "metadata": {
      "needs_background": "light"
     },
     "output_type": "display_data"
    }
   ],
   "source": [
    "plt.plot(((net(inputs).detach().numpy() - sol1)**2).mean(axis=1))"
   ]
  },
  {
   "cell_type": "code",
   "execution_count": 46,
   "metadata": {},
   "outputs": [
    {
     "data": {
      "text/plain": [
       "<matplotlib.colorbar.Colorbar at 0x1beaf2ba070>"
      ]
     },
     "execution_count": 46,
     "metadata": {},
     "output_type": "execute_result"
    },
    {
     "data": {
      "image/png": "[encoded data removed]",
      "text/plain": [
       "<Figure size 432x288 with 2 Axes>"
      ]
     },
     "metadata": {
      "needs_background": "light"
     },
     "output_type": "display_data"
    }
   ],
   "source": [
    "plt.imshow((pred_np - sol1[i,:]).reshape(N,N))\n",
    "plt.colorbar()"
   ]
  },
  {
   "cell_type": "code",
   "execution_count": null,
   "metadata": {},
   "outputs": [],
   "source": []
  }
 ],
 "metadata": {
  "kernelspec": {
   "display_name": "Python 3",
   "language": "python",
   "name": "python3"
  },
  "language_info": {
   "codemirror_mode": {
    "name": "ipython",
    "version": 3
   },
   "file_extension": ".py",
   "mimetype": "text/x-python",
   "name": "python",
   "nbconvert_exporter": "python",
   "pygments_lexer": "ipython3",
   "version": "3.8.5"
  }
 },
 "nbformat": 4,
 "nbformat_minor": 4
}
